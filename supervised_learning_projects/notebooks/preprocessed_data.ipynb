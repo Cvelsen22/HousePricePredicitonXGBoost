{
 "cells": [
  {
   "cell_type": "code",
   "execution_count": 178,
   "metadata": {},
   "outputs": [],
   "source": [
    "import pandas as pd \n",
    "import numpy as np\n",
    "import matplotlib.pyplot as plt\n",
    "import seaborn as sns\n",
    "from datetime import datetime\n",
    "from sklearn.preprocessing import LabelEncoder"
   ]
  },
  {
   "cell_type": "code",
   "execution_count": 179,
   "metadata": {},
   "outputs": [
    {
     "data": {
      "text/html": [
       "<div>\n",
       "<style scoped>\n",
       "    .dataframe tbody tr th:only-of-type {\n",
       "        vertical-align: middle;\n",
       "    }\n",
       "\n",
       "    .dataframe tbody tr th {\n",
       "        vertical-align: top;\n",
       "    }\n",
       "\n",
       "    .dataframe thead th {\n",
       "        text-align: right;\n",
       "    }\n",
       "</style>\n",
       "<table border=\"1\" class=\"dataframe\">\n",
       "  <thead>\n",
       "    <tr style=\"text-align: right;\">\n",
       "      <th></th>\n",
       "      <th>date</th>\n",
       "      <th>price</th>\n",
       "      <th>bedrooms</th>\n",
       "      <th>bathrooms</th>\n",
       "      <th>sqft_living</th>\n",
       "      <th>sqft_lot</th>\n",
       "      <th>floors</th>\n",
       "      <th>waterfront</th>\n",
       "      <th>view</th>\n",
       "      <th>condition</th>\n",
       "      <th>sqft_above</th>\n",
       "      <th>sqft_basement</th>\n",
       "      <th>yr_built</th>\n",
       "      <th>yr_renovated</th>\n",
       "      <th>street</th>\n",
       "      <th>city</th>\n",
       "      <th>statezip</th>\n",
       "      <th>country</th>\n",
       "    </tr>\n",
       "  </thead>\n",
       "  <tbody>\n",
       "    <tr>\n",
       "      <th>0</th>\n",
       "      <td>2014-05-02</td>\n",
       "      <td>313000.0</td>\n",
       "      <td>3.0</td>\n",
       "      <td>1.50</td>\n",
       "      <td>1340</td>\n",
       "      <td>7912</td>\n",
       "      <td>1.5</td>\n",
       "      <td>0</td>\n",
       "      <td>0</td>\n",
       "      <td>3</td>\n",
       "      <td>1340</td>\n",
       "      <td>0</td>\n",
       "      <td>1955</td>\n",
       "      <td>2005</td>\n",
       "      <td>18810 Densmore Ave N</td>\n",
       "      <td>Shoreline</td>\n",
       "      <td>WA 98133</td>\n",
       "      <td>USA</td>\n",
       "    </tr>\n",
       "    <tr>\n",
       "      <th>1</th>\n",
       "      <td>2014-05-02</td>\n",
       "      <td>2384000.0</td>\n",
       "      <td>5.0</td>\n",
       "      <td>2.50</td>\n",
       "      <td>3650</td>\n",
       "      <td>9050</td>\n",
       "      <td>2.0</td>\n",
       "      <td>0</td>\n",
       "      <td>4</td>\n",
       "      <td>5</td>\n",
       "      <td>3370</td>\n",
       "      <td>280</td>\n",
       "      <td>1921</td>\n",
       "      <td>0</td>\n",
       "      <td>709 W Blaine St</td>\n",
       "      <td>Seattle</td>\n",
       "      <td>WA 98119</td>\n",
       "      <td>USA</td>\n",
       "    </tr>\n",
       "    <tr>\n",
       "      <th>2</th>\n",
       "      <td>2014-05-02</td>\n",
       "      <td>342000.0</td>\n",
       "      <td>3.0</td>\n",
       "      <td>2.00</td>\n",
       "      <td>1930</td>\n",
       "      <td>11947</td>\n",
       "      <td>1.0</td>\n",
       "      <td>0</td>\n",
       "      <td>0</td>\n",
       "      <td>4</td>\n",
       "      <td>1930</td>\n",
       "      <td>0</td>\n",
       "      <td>1966</td>\n",
       "      <td>0</td>\n",
       "      <td>26206-26214 143rd Ave SE</td>\n",
       "      <td>Kent</td>\n",
       "      <td>WA 98042</td>\n",
       "      <td>USA</td>\n",
       "    </tr>\n",
       "    <tr>\n",
       "      <th>3</th>\n",
       "      <td>2014-05-02</td>\n",
       "      <td>420000.0</td>\n",
       "      <td>3.0</td>\n",
       "      <td>2.25</td>\n",
       "      <td>2000</td>\n",
       "      <td>8030</td>\n",
       "      <td>1.0</td>\n",
       "      <td>0</td>\n",
       "      <td>0</td>\n",
       "      <td>4</td>\n",
       "      <td>1000</td>\n",
       "      <td>1000</td>\n",
       "      <td>1963</td>\n",
       "      <td>0</td>\n",
       "      <td>857 170th Pl NE</td>\n",
       "      <td>Bellevue</td>\n",
       "      <td>WA 98008</td>\n",
       "      <td>USA</td>\n",
       "    </tr>\n",
       "    <tr>\n",
       "      <th>4</th>\n",
       "      <td>2014-05-02</td>\n",
       "      <td>550000.0</td>\n",
       "      <td>4.0</td>\n",
       "      <td>2.50</td>\n",
       "      <td>1940</td>\n",
       "      <td>10500</td>\n",
       "      <td>1.0</td>\n",
       "      <td>0</td>\n",
       "      <td>0</td>\n",
       "      <td>4</td>\n",
       "      <td>1140</td>\n",
       "      <td>800</td>\n",
       "      <td>1976</td>\n",
       "      <td>1992</td>\n",
       "      <td>9105 170th Ave NE</td>\n",
       "      <td>Redmond</td>\n",
       "      <td>WA 98052</td>\n",
       "      <td>USA</td>\n",
       "    </tr>\n",
       "  </tbody>\n",
       "</table>\n",
       "</div>"
      ],
      "text/plain": [
       "        date      price  bedrooms  bathrooms  sqft_living  sqft_lot  floors  \\\n",
       "0 2014-05-02   313000.0       3.0       1.50         1340      7912     1.5   \n",
       "1 2014-05-02  2384000.0       5.0       2.50         3650      9050     2.0   \n",
       "2 2014-05-02   342000.0       3.0       2.00         1930     11947     1.0   \n",
       "3 2014-05-02   420000.0       3.0       2.25         2000      8030     1.0   \n",
       "4 2014-05-02   550000.0       4.0       2.50         1940     10500     1.0   \n",
       "\n",
       "   waterfront  view  condition  sqft_above  sqft_basement  yr_built  \\\n",
       "0           0     0          3        1340              0      1955   \n",
       "1           0     4          5        3370            280      1921   \n",
       "2           0     0          4        1930              0      1966   \n",
       "3           0     0          4        1000           1000      1963   \n",
       "4           0     0          4        1140            800      1976   \n",
       "\n",
       "   yr_renovated                    street       city  statezip country  \n",
       "0          2005      18810 Densmore Ave N  Shoreline  WA 98133     USA  \n",
       "1             0           709 W Blaine St    Seattle  WA 98119     USA  \n",
       "2             0  26206-26214 143rd Ave SE       Kent  WA 98042     USA  \n",
       "3             0           857 170th Pl NE   Bellevue  WA 98008     USA  \n",
       "4          1992         9105 170th Ave NE    Redmond  WA 98052     USA  "
      ]
     },
     "execution_count": 179,
     "metadata": {},
     "output_type": "execute_result"
    }
   ],
   "source": [
    "data = pd.read_csv(r\"C:\\Users\\Usuario\\personal_projects\\machineLearning_projects\\supervised_learning\\XGBoost_projects\\XGBoost_house_price_prediction\\supervised_learning_projects\\data\\raw\\data.csv\",\n",
    "                   parse_dates = [0])\n",
    "data.head()"
   ]
  },
  {
   "cell_type": "code",
   "execution_count": 180,
   "metadata": {},
   "outputs": [
    {
     "name": "stdout",
     "output_type": "stream",
     "text": [
      "<class 'pandas.core.frame.DataFrame'>\n",
      "RangeIndex: 4600 entries, 0 to 4599\n",
      "Data columns (total 18 columns):\n",
      " #   Column         Non-Null Count  Dtype         \n",
      "---  ------         --------------  -----         \n",
      " 0   date           4600 non-null   datetime64[ns]\n",
      " 1   price          4600 non-null   float64       \n",
      " 2   bedrooms       4600 non-null   float64       \n",
      " 3   bathrooms      4600 non-null   float64       \n",
      " 4   sqft_living    4600 non-null   int64         \n",
      " 5   sqft_lot       4600 non-null   int64         \n",
      " 6   floors         4600 non-null   float64       \n",
      " 7   waterfront     4600 non-null   int64         \n",
      " 8   view           4600 non-null   int64         \n",
      " 9   condition      4600 non-null   int64         \n",
      " 10  sqft_above     4600 non-null   int64         \n",
      " 11  sqft_basement  4600 non-null   int64         \n",
      " 12  yr_built       4600 non-null   int64         \n",
      " 13  yr_renovated   4600 non-null   int64         \n",
      " 14  street         4600 non-null   object        \n",
      " 15  city           4600 non-null   object        \n",
      " 16  statezip       4600 non-null   object        \n",
      " 17  country        4600 non-null   object        \n",
      "dtypes: datetime64[ns](1), float64(4), int64(9), object(4)\n",
      "memory usage: 647.0+ KB\n"
     ]
    }
   ],
   "source": [
    "data.info()"
   ]
  },
  {
   "cell_type": "code",
   "execution_count": 181,
   "metadata": {},
   "outputs": [
    {
     "data": {
      "text/html": [
       "<div>\n",
       "<style scoped>\n",
       "    .dataframe tbody tr th:only-of-type {\n",
       "        vertical-align: middle;\n",
       "    }\n",
       "\n",
       "    .dataframe tbody tr th {\n",
       "        vertical-align: top;\n",
       "    }\n",
       "\n",
       "    .dataframe thead th {\n",
       "        text-align: right;\n",
       "    }\n",
       "</style>\n",
       "<table border=\"1\" class=\"dataframe\">\n",
       "  <thead>\n",
       "    <tr style=\"text-align: right;\">\n",
       "      <th></th>\n",
       "      <th>date</th>\n",
       "      <th>price</th>\n",
       "      <th>bedrooms</th>\n",
       "      <th>bathrooms</th>\n",
       "      <th>sqft_living</th>\n",
       "      <th>sqft_lot</th>\n",
       "      <th>floors</th>\n",
       "      <th>waterfront</th>\n",
       "      <th>view</th>\n",
       "      <th>condition</th>\n",
       "      <th>sqft_above</th>\n",
       "      <th>sqft_basement</th>\n",
       "      <th>yr_built</th>\n",
       "      <th>yr_renovated</th>\n",
       "    </tr>\n",
       "  </thead>\n",
       "  <tbody>\n",
       "    <tr>\n",
       "      <th>count</th>\n",
       "      <td>4600</td>\n",
       "      <td>4.600000e+03</td>\n",
       "      <td>4600.000000</td>\n",
       "      <td>4600.000000</td>\n",
       "      <td>4600.000000</td>\n",
       "      <td>4.600000e+03</td>\n",
       "      <td>4600.000000</td>\n",
       "      <td>4600.000000</td>\n",
       "      <td>4600.000000</td>\n",
       "      <td>4600.000000</td>\n",
       "      <td>4600.000000</td>\n",
       "      <td>4600.000000</td>\n",
       "      <td>4600.000000</td>\n",
       "      <td>4600.000000</td>\n",
       "    </tr>\n",
       "    <tr>\n",
       "      <th>mean</th>\n",
       "      <td>2014-06-07 03:14:42.782608640</td>\n",
       "      <td>5.519630e+05</td>\n",
       "      <td>3.400870</td>\n",
       "      <td>2.160815</td>\n",
       "      <td>2139.346957</td>\n",
       "      <td>1.485252e+04</td>\n",
       "      <td>1.512065</td>\n",
       "      <td>0.007174</td>\n",
       "      <td>0.240652</td>\n",
       "      <td>3.451739</td>\n",
       "      <td>1827.265435</td>\n",
       "      <td>312.081522</td>\n",
       "      <td>1970.786304</td>\n",
       "      <td>808.608261</td>\n",
       "    </tr>\n",
       "    <tr>\n",
       "      <th>min</th>\n",
       "      <td>2014-05-02 00:00:00</td>\n",
       "      <td>0.000000e+00</td>\n",
       "      <td>0.000000</td>\n",
       "      <td>0.000000</td>\n",
       "      <td>370.000000</td>\n",
       "      <td>6.380000e+02</td>\n",
       "      <td>1.000000</td>\n",
       "      <td>0.000000</td>\n",
       "      <td>0.000000</td>\n",
       "      <td>1.000000</td>\n",
       "      <td>370.000000</td>\n",
       "      <td>0.000000</td>\n",
       "      <td>1900.000000</td>\n",
       "      <td>0.000000</td>\n",
       "    </tr>\n",
       "    <tr>\n",
       "      <th>25%</th>\n",
       "      <td>2014-05-21 00:00:00</td>\n",
       "      <td>3.228750e+05</td>\n",
       "      <td>3.000000</td>\n",
       "      <td>1.750000</td>\n",
       "      <td>1460.000000</td>\n",
       "      <td>5.000750e+03</td>\n",
       "      <td>1.000000</td>\n",
       "      <td>0.000000</td>\n",
       "      <td>0.000000</td>\n",
       "      <td>3.000000</td>\n",
       "      <td>1190.000000</td>\n",
       "      <td>0.000000</td>\n",
       "      <td>1951.000000</td>\n",
       "      <td>0.000000</td>\n",
       "    </tr>\n",
       "    <tr>\n",
       "      <th>50%</th>\n",
       "      <td>2014-06-09 00:00:00</td>\n",
       "      <td>4.609435e+05</td>\n",
       "      <td>3.000000</td>\n",
       "      <td>2.250000</td>\n",
       "      <td>1980.000000</td>\n",
       "      <td>7.683000e+03</td>\n",
       "      <td>1.500000</td>\n",
       "      <td>0.000000</td>\n",
       "      <td>0.000000</td>\n",
       "      <td>3.000000</td>\n",
       "      <td>1590.000000</td>\n",
       "      <td>0.000000</td>\n",
       "      <td>1976.000000</td>\n",
       "      <td>0.000000</td>\n",
       "    </tr>\n",
       "    <tr>\n",
       "      <th>75%</th>\n",
       "      <td>2014-06-24 00:00:00</td>\n",
       "      <td>6.549625e+05</td>\n",
       "      <td>4.000000</td>\n",
       "      <td>2.500000</td>\n",
       "      <td>2620.000000</td>\n",
       "      <td>1.100125e+04</td>\n",
       "      <td>2.000000</td>\n",
       "      <td>0.000000</td>\n",
       "      <td>0.000000</td>\n",
       "      <td>4.000000</td>\n",
       "      <td>2300.000000</td>\n",
       "      <td>610.000000</td>\n",
       "      <td>1997.000000</td>\n",
       "      <td>1999.000000</td>\n",
       "    </tr>\n",
       "    <tr>\n",
       "      <th>max</th>\n",
       "      <td>2014-07-10 00:00:00</td>\n",
       "      <td>2.659000e+07</td>\n",
       "      <td>9.000000</td>\n",
       "      <td>8.000000</td>\n",
       "      <td>13540.000000</td>\n",
       "      <td>1.074218e+06</td>\n",
       "      <td>3.500000</td>\n",
       "      <td>1.000000</td>\n",
       "      <td>4.000000</td>\n",
       "      <td>5.000000</td>\n",
       "      <td>9410.000000</td>\n",
       "      <td>4820.000000</td>\n",
       "      <td>2014.000000</td>\n",
       "      <td>2014.000000</td>\n",
       "    </tr>\n",
       "    <tr>\n",
       "      <th>std</th>\n",
       "      <td>NaN</td>\n",
       "      <td>5.638347e+05</td>\n",
       "      <td>0.908848</td>\n",
       "      <td>0.783781</td>\n",
       "      <td>963.206916</td>\n",
       "      <td>3.588444e+04</td>\n",
       "      <td>0.538288</td>\n",
       "      <td>0.084404</td>\n",
       "      <td>0.778405</td>\n",
       "      <td>0.677230</td>\n",
       "      <td>862.168977</td>\n",
       "      <td>464.137228</td>\n",
       "      <td>29.731848</td>\n",
       "      <td>979.414536</td>\n",
       "    </tr>\n",
       "  </tbody>\n",
       "</table>\n",
       "</div>"
      ],
      "text/plain": [
       "                                date         price     bedrooms    bathrooms  \\\n",
       "count                           4600  4.600000e+03  4600.000000  4600.000000   \n",
       "mean   2014-06-07 03:14:42.782608640  5.519630e+05     3.400870     2.160815   \n",
       "min              2014-05-02 00:00:00  0.000000e+00     0.000000     0.000000   \n",
       "25%              2014-05-21 00:00:00  3.228750e+05     3.000000     1.750000   \n",
       "50%              2014-06-09 00:00:00  4.609435e+05     3.000000     2.250000   \n",
       "75%              2014-06-24 00:00:00  6.549625e+05     4.000000     2.500000   \n",
       "max              2014-07-10 00:00:00  2.659000e+07     9.000000     8.000000   \n",
       "std                              NaN  5.638347e+05     0.908848     0.783781   \n",
       "\n",
       "        sqft_living      sqft_lot       floors   waterfront         view  \\\n",
       "count   4600.000000  4.600000e+03  4600.000000  4600.000000  4600.000000   \n",
       "mean    2139.346957  1.485252e+04     1.512065     0.007174     0.240652   \n",
       "min      370.000000  6.380000e+02     1.000000     0.000000     0.000000   \n",
       "25%     1460.000000  5.000750e+03     1.000000     0.000000     0.000000   \n",
       "50%     1980.000000  7.683000e+03     1.500000     0.000000     0.000000   \n",
       "75%     2620.000000  1.100125e+04     2.000000     0.000000     0.000000   \n",
       "max    13540.000000  1.074218e+06     3.500000     1.000000     4.000000   \n",
       "std      963.206916  3.588444e+04     0.538288     0.084404     0.778405   \n",
       "\n",
       "         condition   sqft_above  sqft_basement     yr_built  yr_renovated  \n",
       "count  4600.000000  4600.000000    4600.000000  4600.000000   4600.000000  \n",
       "mean      3.451739  1827.265435     312.081522  1970.786304    808.608261  \n",
       "min       1.000000   370.000000       0.000000  1900.000000      0.000000  \n",
       "25%       3.000000  1190.000000       0.000000  1951.000000      0.000000  \n",
       "50%       3.000000  1590.000000       0.000000  1976.000000      0.000000  \n",
       "75%       4.000000  2300.000000     610.000000  1997.000000   1999.000000  \n",
       "max       5.000000  9410.000000    4820.000000  2014.000000   2014.000000  \n",
       "std       0.677230   862.168977     464.137228    29.731848    979.414536  "
      ]
     },
     "execution_count": 181,
     "metadata": {},
     "output_type": "execute_result"
    }
   ],
   "source": [
    "data.describe()"
   ]
  },
  {
   "cell_type": "code",
   "execution_count": 182,
   "metadata": {},
   "outputs": [
    {
     "name": "stdout",
     "output_type": "stream",
     "text": [
      "bedrooms\n",
      "3.0    2032\n",
      "4.0    1531\n",
      "2.0     566\n",
      "5.0     353\n",
      "6.0      61\n",
      "1.0      38\n",
      "7.0      14\n",
      "8.0       2\n",
      "0.0       2\n",
      "9.0       1\n",
      "Name: count, dtype: int64\n"
     ]
    }
   ],
   "source": [
    "print(data['bedrooms'].value_counts())"
   ]
  },
  {
   "cell_type": "code",
   "execution_count": 183,
   "metadata": {},
   "outputs": [],
   "source": [
    "# Convert bedrooms and bathrooms to integer\n",
    "data['bedrooms'] = data['bedrooms'].astype('int')\n",
    "data['bathrooms'] = data['bathrooms'].astype('int')\n",
    "data['city'] = data['city'].astype('category')"
   ]
  },
  {
   "cell_type": "code",
   "execution_count": 184,
   "metadata": {},
   "outputs": [
    {
     "data": {
      "text/plain": [
       "count     4600.000000\n",
       "mean      2139.346957\n",
       "std        963.206916\n",
       "min        370.000000\n",
       "25%       1460.000000\n",
       "50%       1980.000000\n",
       "75%       2620.000000\n",
       "max      13540.000000\n",
       "Name: sqft_living, dtype: float64"
      ]
     },
     "execution_count": 184,
     "metadata": {},
     "output_type": "execute_result"
    }
   ],
   "source": [
    "data['sqft_living'].describe()"
   ]
  },
  {
   "cell_type": "code",
   "execution_count": 185,
   "metadata": {},
   "outputs": [
    {
     "data": {
      "text/plain": [
       "count    4.600000e+03\n",
       "mean     1.485252e+04\n",
       "std      3.588444e+04\n",
       "min      6.380000e+02\n",
       "25%      5.000750e+03\n",
       "50%      7.683000e+03\n",
       "75%      1.100125e+04\n",
       "max      1.074218e+06\n",
       "Name: sqft_lot, dtype: float64"
      ]
     },
     "execution_count": 185,
     "metadata": {},
     "output_type": "execute_result"
    }
   ],
   "source": [
    "data['sqft_lot'].describe()"
   ]
  },
  {
   "cell_type": "code",
   "execution_count": 186,
   "metadata": {},
   "outputs": [
    {
     "name": "stdout",
     "output_type": "stream",
     "text": [
      "bedrooms\n",
      "3    2032\n",
      "4    1531\n",
      "2     566\n",
      "5     353\n",
      "6      61\n",
      "1      38\n",
      "7      14\n",
      "8       2\n",
      "0       2\n",
      "9       1\n",
      "Name: count, dtype: int64\n"
     ]
    }
   ],
   "source": [
    "print(data['bedrooms'].value_counts())"
   ]
  },
  {
   "cell_type": "code",
   "execution_count": 187,
   "metadata": {},
   "outputs": [
    {
     "name": "stdout",
     "output_type": "stream",
     "text": [
      "floors\n",
      "1.0    2174\n",
      "2.0    1811\n",
      "1.5     444\n",
      "3.0     128\n",
      "2.5      41\n",
      "3.5       2\n",
      "Name: count, dtype: int64\n"
     ]
    }
   ],
   "source": [
    "print(data['floors'].value_counts())"
   ]
  },
  {
   "cell_type": "code",
   "execution_count": 188,
   "metadata": {},
   "outputs": [
    {
     "name": "stdout",
     "output_type": "stream",
     "text": [
      "waterfront\n",
      "0    4567\n",
      "1      33\n",
      "Name: count, dtype: int64\n"
     ]
    }
   ],
   "source": [
    "print(data['waterfront'].value_counts())"
   ]
  },
  {
   "cell_type": "code",
   "execution_count": 189,
   "metadata": {},
   "outputs": [
    {
     "name": "stdout",
     "output_type": "stream",
     "text": [
      "view\n",
      "0    4140\n",
      "2     205\n",
      "3     116\n",
      "4      70\n",
      "1      69\n",
      "Name: count, dtype: int64\n"
     ]
    }
   ],
   "source": [
    "print(data['view'].value_counts())"
   ]
  },
  {
   "cell_type": "code",
   "execution_count": 190,
   "metadata": {},
   "outputs": [
    {
     "name": "stdout",
     "output_type": "stream",
     "text": [
      "condition\n",
      "3    2875\n",
      "4    1252\n",
      "5     435\n",
      "2      32\n",
      "1       6\n",
      "Name: count, dtype: int64\n"
     ]
    }
   ],
   "source": [
    "print(data['condition'].value_counts())"
   ]
  },
  {
   "cell_type": "code",
   "execution_count": 191,
   "metadata": {},
   "outputs": [
    {
     "data": {
      "text/plain": [
       "count    4600.000000\n",
       "mean     1970.786304\n",
       "std        29.731848\n",
       "min      1900.000000\n",
       "25%      1951.000000\n",
       "50%      1976.000000\n",
       "75%      1997.000000\n",
       "max      2014.000000\n",
       "Name: yr_built, dtype: float64"
      ]
     },
     "execution_count": 191,
     "metadata": {},
     "output_type": "execute_result"
    }
   ],
   "source": [
    "data['yr_built'].describe()"
   ]
  },
  {
   "cell_type": "code",
   "execution_count": 192,
   "metadata": {},
   "outputs": [
    {
     "name": "stdout",
     "output_type": "stream",
     "text": [
      "count    4600.000000\n",
      "mean       52.213696\n",
      "std        29.731848\n",
      "min         9.000000\n",
      "25%        26.000000\n",
      "50%        47.000000\n",
      "75%        72.000000\n",
      "max       123.000000\n",
      "Name: house_age, dtype: float64\n"
     ]
    }
   ],
   "source": [
    "current_year = datetime.now().year\n",
    "data['house_age'] = current_year - data['yr_built']\n",
    "print(data['house_age'].describe())"
   ]
  },
  {
   "cell_type": "code",
   "execution_count": 193,
   "metadata": {},
   "outputs": [
    {
     "name": "stdout",
     "output_type": "stream",
     "text": [
      "int64\n"
     ]
    }
   ],
   "source": [
    "print(data['house_age'].dtype)"
   ]
  },
  {
   "cell_type": "code",
   "execution_count": 194,
   "metadata": {},
   "outputs": [
    {
     "data": {
      "text/plain": [
       "count    4600.000000\n",
       "mean      808.608261\n",
       "std       979.414536\n",
       "min         0.000000\n",
       "25%         0.000000\n",
       "50%         0.000000\n",
       "75%      1999.000000\n",
       "max      2014.000000\n",
       "Name: yr_renovated, dtype: float64"
      ]
     },
     "execution_count": 194,
     "metadata": {},
     "output_type": "execute_result"
    }
   ],
   "source": [
    "data['yr_renovated'].describe()"
   ]
  },
  {
   "cell_type": "code",
   "execution_count": 195,
   "metadata": {},
   "outputs": [
    {
     "name": "stdout",
     "output_type": "stream",
     "text": [
      "yr_renovated\n",
      "0       2735\n",
      "2000     170\n",
      "2003     151\n",
      "2009     109\n",
      "2001     109\n",
      "2005      95\n",
      "2004      77\n",
      "2014      72\n",
      "2006      68\n",
      "2013      61\n",
      "1923      57\n",
      "1994      57\n",
      "1989      55\n",
      "2011      54\n",
      "2012      45\n",
      "2008      45\n",
      "1988      43\n",
      "1999      41\n",
      "2002      41\n",
      "1983      41\n",
      "1998      40\n",
      "1993      39\n",
      "1912      33\n",
      "1979      32\n",
      "1992      32\n",
      "2010      30\n",
      "1985      29\n",
      "1997      28\n",
      "1996      22\n",
      "1982      22\n",
      "1972      17\n",
      "1990      16\n",
      "1956      15\n",
      "1963      12\n",
      "1969      11\n",
      "1984      10\n",
      "1970       9\n",
      "1968       9\n",
      "1954       8\n",
      "1945       7\n",
      "2007       7\n",
      "1974       6\n",
      "1934       6\n",
      "1971       5\n",
      "1958       5\n",
      "1986       5\n",
      "1978       3\n",
      "1980       2\n",
      "1995       2\n",
      "1955       2\n",
      "1977       1\n",
      "1913       1\n",
      "1991       1\n",
      "1948       1\n",
      "1966       1\n",
      "1960       1\n",
      "1987       1\n",
      "1953       1\n",
      "1981       1\n",
      "1975       1\n",
      "Name: count, dtype: int64\n"
     ]
    }
   ],
   "source": [
    "print(data['yr_renovated'].value_counts())"
   ]
  },
  {
   "cell_type": "code",
   "execution_count": 196,
   "metadata": {},
   "outputs": [],
   "source": [
    "data.loc[data['yr_renovated'] == 0, 'yr_renovated'] = data.loc[data['yr_renovated'] == 0, 'yr_built']"
   ]
  },
  {
   "cell_type": "code",
   "execution_count": 197,
   "metadata": {},
   "outputs": [
    {
     "data": {
      "text/plain": [
       "count    4600.000000\n",
       "mean     1985.042609\n",
       "std        26.863922\n",
       "min      1900.000000\n",
       "25%      1973.000000\n",
       "50%      1994.000000\n",
       "75%      2005.000000\n",
       "max      2014.000000\n",
       "Name: yr_renovated, dtype: float64"
      ]
     },
     "execution_count": 197,
     "metadata": {},
     "output_type": "execute_result"
    }
   ],
   "source": [
    "data['yr_renovated'].describe()"
   ]
  },
  {
   "cell_type": "code",
   "execution_count": 198,
   "metadata": {},
   "outputs": [
    {
     "name": "stdout",
     "output_type": "stream",
     "text": [
      "yr_renovated\n",
      "2003    240\n",
      "2000    218\n",
      "2005    199\n",
      "2006    179\n",
      "2001    177\n",
      "       ... \n",
      "1936      3\n",
      "1935      3\n",
      "1900      3\n",
      "1932      2\n",
      "1939      2\n",
      "Name: count, Length: 111, dtype: int64\n"
     ]
    }
   ],
   "source": [
    "print(data['yr_renovated'].value_counts())"
   ]
  },
  {
   "cell_type": "code",
   "execution_count": 199,
   "metadata": {},
   "outputs": [
    {
     "name": "stdout",
     "output_type": "stream",
     "text": [
      "count    4600.000000\n",
      "mean       37.957391\n",
      "std        26.863922\n",
      "min         9.000000\n",
      "25%        18.000000\n",
      "50%        29.000000\n",
      "75%        50.000000\n",
      "max       123.000000\n",
      "Name: years_since_last_renovation, dtype: float64\n"
     ]
    }
   ],
   "source": [
    "data['years_since_last_renovation'] = current_year - data['yr_renovated']\n",
    "print(data['years_since_last_renovation'].describe())"
   ]
  },
  {
   "cell_type": "code",
   "execution_count": 200,
   "metadata": {},
   "outputs": [
    {
     "name": "stdout",
     "output_type": "stream",
     "text": [
      "years_since_last_renovation\n",
      "20     240\n",
      "23     218\n",
      "18     199\n",
      "17     179\n",
      "22     177\n",
      "      ... \n",
      "87       3\n",
      "88       3\n",
      "123      3\n",
      "91       2\n",
      "84       2\n",
      "Name: count, Length: 111, dtype: int64\n"
     ]
    }
   ],
   "source": [
    "print(data['years_since_last_renovation'].value_counts())"
   ]
  },
  {
   "cell_type": "code",
   "execution_count": 201,
   "metadata": {},
   "outputs": [],
   "source": [
    "# Initialize the LabelEncoder\n",
    "#label_encoder = LabelEncoder()\n",
    "# Apply Label Encoding to the 'City' column\n",
    "#data['city_LabelEncoded'] = label_encoder.fit_transform(data['city'])"
   ]
  },
  {
   "cell_type": "code",
   "execution_count": 202,
   "metadata": {},
   "outputs": [
    {
     "name": "stdout",
     "output_type": "stream",
     "text": [
      "<class 'pandas.core.frame.DataFrame'>\n",
      "Index: 0 entries\n",
      "Data columns (total 20 columns):\n",
      " #   Column                       Non-Null Count  Dtype         \n",
      "---  ------                       --------------  -----         \n",
      " 0   date                         0 non-null      datetime64[ns]\n",
      " 1   price                        0 non-null      float64       \n",
      " 2   bedrooms                     0 non-null      int32         \n",
      " 3   bathrooms                    0 non-null      int32         \n",
      " 4   sqft_living                  0 non-null      int64         \n",
      " 5   sqft_lot                     0 non-null      int64         \n",
      " 6   floors                       0 non-null      float64       \n",
      " 7   waterfront                   0 non-null      int64         \n",
      " 8   view                         0 non-null      int64         \n",
      " 9   condition                    0 non-null      int64         \n",
      " 10  sqft_above                   0 non-null      int64         \n",
      " 11  sqft_basement                0 non-null      int64         \n",
      " 12  yr_built                     0 non-null      int64         \n",
      " 13  yr_renovated                 0 non-null      int64         \n",
      " 14  street                       0 non-null      object        \n",
      " 15  city                         0 non-null      category      \n",
      " 16  statezip                     0 non-null      object        \n",
      " 17  country                      0 non-null      object        \n",
      " 18  house_age                    0 non-null      int64         \n",
      " 19  years_since_last_renovation  0 non-null      int64         \n",
      "dtypes: category(1), datetime64[ns](1), float64(2), int32(2), int64(11), object(3)\n",
      "memory usage: 1.4+ KB\n"
     ]
    }
   ],
   "source": [
    "duplicates = data[data.duplicated(subset=None)]\n",
    "duplicates.info()\n"
   ]
  },
  {
   "cell_type": "code",
   "execution_count": 203,
   "metadata": {},
   "outputs": [
    {
     "name": "stdout",
     "output_type": "stream",
     "text": [
      "<class 'pandas.core.frame.DataFrame'>\n",
      "RangeIndex: 4600 entries, 0 to 4599\n",
      "Data columns (total 13 columns):\n",
      " #   Column                       Non-Null Count  Dtype  \n",
      "---  ------                       --------------  -----  \n",
      " 0   price                        4600 non-null   float64\n",
      " 1   bedrooms                     4600 non-null   int32  \n",
      " 2   bathrooms                    4600 non-null   int32  \n",
      " 3   sqft_living                  4600 non-null   int64  \n",
      " 4   sqft_lot                     4600 non-null   int64  \n",
      " 5   floors                       4600 non-null   float64\n",
      " 6   waterfront                   4600 non-null   int64  \n",
      " 7   view                         4600 non-null   int64  \n",
      " 8   condition                    4600 non-null   int64  \n",
      " 9   sqft_above                   4600 non-null   int64  \n",
      " 10  sqft_basement                4600 non-null   int64  \n",
      " 11  house_age                    4600 non-null   int64  \n",
      " 12  years_since_last_renovation  4600 non-null   int64  \n",
      "dtypes: float64(2), int32(2), int64(9)\n",
      "memory usage: 431.4 KB\n"
     ]
    }
   ],
   "source": [
    "columns_to_drop = ['date', 'yr_built','yr_renovated','street','statezip','country','city']\n",
    "processed_data = data.drop(columns_to_drop, axis=1)\n",
    "processed_data.info()\n"
   ]
  },
  {
   "cell_type": "code",
   "execution_count": 204,
   "metadata": {},
   "outputs": [
    {
     "data": {
      "text/html": [
       "<div>\n",
       "<style scoped>\n",
       "    .dataframe tbody tr th:only-of-type {\n",
       "        vertical-align: middle;\n",
       "    }\n",
       "\n",
       "    .dataframe tbody tr th {\n",
       "        vertical-align: top;\n",
       "    }\n",
       "\n",
       "    .dataframe thead th {\n",
       "        text-align: right;\n",
       "    }\n",
       "</style>\n",
       "<table border=\"1\" class=\"dataframe\">\n",
       "  <thead>\n",
       "    <tr style=\"text-align: right;\">\n",
       "      <th></th>\n",
       "      <th>price</th>\n",
       "      <th>bedrooms</th>\n",
       "      <th>bathrooms</th>\n",
       "      <th>sqft_living</th>\n",
       "      <th>sqft_lot</th>\n",
       "      <th>floors</th>\n",
       "      <th>waterfront</th>\n",
       "      <th>view</th>\n",
       "      <th>condition</th>\n",
       "      <th>sqft_above</th>\n",
       "      <th>sqft_basement</th>\n",
       "      <th>house_age</th>\n",
       "      <th>years_since_last_renovation</th>\n",
       "    </tr>\n",
       "  </thead>\n",
       "  <tbody>\n",
       "    <tr>\n",
       "      <th>count</th>\n",
       "      <td>4.600000e+03</td>\n",
       "      <td>4600.000000</td>\n",
       "      <td>4600.000000</td>\n",
       "      <td>4600.000000</td>\n",
       "      <td>4.600000e+03</td>\n",
       "      <td>4600.000000</td>\n",
       "      <td>4600.000000</td>\n",
       "      <td>4600.000000</td>\n",
       "      <td>4600.000000</td>\n",
       "      <td>4600.000000</td>\n",
       "      <td>4600.000000</td>\n",
       "      <td>4600.000000</td>\n",
       "      <td>4600.000000</td>\n",
       "    </tr>\n",
       "    <tr>\n",
       "      <th>mean</th>\n",
       "      <td>5.519630e+05</td>\n",
       "      <td>3.400870</td>\n",
       "      <td>1.788913</td>\n",
       "      <td>2139.346957</td>\n",
       "      <td>1.485252e+04</td>\n",
       "      <td>1.512065</td>\n",
       "      <td>0.007174</td>\n",
       "      <td>0.240652</td>\n",
       "      <td>3.451739</td>\n",
       "      <td>1827.265435</td>\n",
       "      <td>312.081522</td>\n",
       "      <td>52.213696</td>\n",
       "      <td>37.957391</td>\n",
       "    </tr>\n",
       "    <tr>\n",
       "      <th>std</th>\n",
       "      <td>5.638347e+05</td>\n",
       "      <td>0.908848</td>\n",
       "      <td>0.752185</td>\n",
       "      <td>963.206916</td>\n",
       "      <td>3.588444e+04</td>\n",
       "      <td>0.538288</td>\n",
       "      <td>0.084404</td>\n",
       "      <td>0.778405</td>\n",
       "      <td>0.677230</td>\n",
       "      <td>862.168977</td>\n",
       "      <td>464.137228</td>\n",
       "      <td>29.731848</td>\n",
       "      <td>26.863922</td>\n",
       "    </tr>\n",
       "    <tr>\n",
       "      <th>min</th>\n",
       "      <td>0.000000e+00</td>\n",
       "      <td>0.000000</td>\n",
       "      <td>0.000000</td>\n",
       "      <td>370.000000</td>\n",
       "      <td>6.380000e+02</td>\n",
       "      <td>1.000000</td>\n",
       "      <td>0.000000</td>\n",
       "      <td>0.000000</td>\n",
       "      <td>1.000000</td>\n",
       "      <td>370.000000</td>\n",
       "      <td>0.000000</td>\n",
       "      <td>9.000000</td>\n",
       "      <td>9.000000</td>\n",
       "    </tr>\n",
       "    <tr>\n",
       "      <th>25%</th>\n",
       "      <td>3.228750e+05</td>\n",
       "      <td>3.000000</td>\n",
       "      <td>1.000000</td>\n",
       "      <td>1460.000000</td>\n",
       "      <td>5.000750e+03</td>\n",
       "      <td>1.000000</td>\n",
       "      <td>0.000000</td>\n",
       "      <td>0.000000</td>\n",
       "      <td>3.000000</td>\n",
       "      <td>1190.000000</td>\n",
       "      <td>0.000000</td>\n",
       "      <td>26.000000</td>\n",
       "      <td>18.000000</td>\n",
       "    </tr>\n",
       "    <tr>\n",
       "      <th>50%</th>\n",
       "      <td>4.609435e+05</td>\n",
       "      <td>3.000000</td>\n",
       "      <td>2.000000</td>\n",
       "      <td>1980.000000</td>\n",
       "      <td>7.683000e+03</td>\n",
       "      <td>1.500000</td>\n",
       "      <td>0.000000</td>\n",
       "      <td>0.000000</td>\n",
       "      <td>3.000000</td>\n",
       "      <td>1590.000000</td>\n",
       "      <td>0.000000</td>\n",
       "      <td>47.000000</td>\n",
       "      <td>29.000000</td>\n",
       "    </tr>\n",
       "    <tr>\n",
       "      <th>75%</th>\n",
       "      <td>6.549625e+05</td>\n",
       "      <td>4.000000</td>\n",
       "      <td>2.000000</td>\n",
       "      <td>2620.000000</td>\n",
       "      <td>1.100125e+04</td>\n",
       "      <td>2.000000</td>\n",
       "      <td>0.000000</td>\n",
       "      <td>0.000000</td>\n",
       "      <td>4.000000</td>\n",
       "      <td>2300.000000</td>\n",
       "      <td>610.000000</td>\n",
       "      <td>72.000000</td>\n",
       "      <td>50.000000</td>\n",
       "    </tr>\n",
       "    <tr>\n",
       "      <th>max</th>\n",
       "      <td>2.659000e+07</td>\n",
       "      <td>9.000000</td>\n",
       "      <td>8.000000</td>\n",
       "      <td>13540.000000</td>\n",
       "      <td>1.074218e+06</td>\n",
       "      <td>3.500000</td>\n",
       "      <td>1.000000</td>\n",
       "      <td>4.000000</td>\n",
       "      <td>5.000000</td>\n",
       "      <td>9410.000000</td>\n",
       "      <td>4820.000000</td>\n",
       "      <td>123.000000</td>\n",
       "      <td>123.000000</td>\n",
       "    </tr>\n",
       "  </tbody>\n",
       "</table>\n",
       "</div>"
      ],
      "text/plain": [
       "              price     bedrooms    bathrooms   sqft_living      sqft_lot  \\\n",
       "count  4.600000e+03  4600.000000  4600.000000   4600.000000  4.600000e+03   \n",
       "mean   5.519630e+05     3.400870     1.788913   2139.346957  1.485252e+04   \n",
       "std    5.638347e+05     0.908848     0.752185    963.206916  3.588444e+04   \n",
       "min    0.000000e+00     0.000000     0.000000    370.000000  6.380000e+02   \n",
       "25%    3.228750e+05     3.000000     1.000000   1460.000000  5.000750e+03   \n",
       "50%    4.609435e+05     3.000000     2.000000   1980.000000  7.683000e+03   \n",
       "75%    6.549625e+05     4.000000     2.000000   2620.000000  1.100125e+04   \n",
       "max    2.659000e+07     9.000000     8.000000  13540.000000  1.074218e+06   \n",
       "\n",
       "            floors   waterfront         view    condition   sqft_above  \\\n",
       "count  4600.000000  4600.000000  4600.000000  4600.000000  4600.000000   \n",
       "mean      1.512065     0.007174     0.240652     3.451739  1827.265435   \n",
       "std       0.538288     0.084404     0.778405     0.677230   862.168977   \n",
       "min       1.000000     0.000000     0.000000     1.000000   370.000000   \n",
       "25%       1.000000     0.000000     0.000000     3.000000  1190.000000   \n",
       "50%       1.500000     0.000000     0.000000     3.000000  1590.000000   \n",
       "75%       2.000000     0.000000     0.000000     4.000000  2300.000000   \n",
       "max       3.500000     1.000000     4.000000     5.000000  9410.000000   \n",
       "\n",
       "       sqft_basement    house_age  years_since_last_renovation  \n",
       "count    4600.000000  4600.000000                  4600.000000  \n",
       "mean      312.081522    52.213696                    37.957391  \n",
       "std       464.137228    29.731848                    26.863922  \n",
       "min         0.000000     9.000000                     9.000000  \n",
       "25%         0.000000    26.000000                    18.000000  \n",
       "50%         0.000000    47.000000                    29.000000  \n",
       "75%       610.000000    72.000000                    50.000000  \n",
       "max      4820.000000   123.000000                   123.000000  "
      ]
     },
     "execution_count": 204,
     "metadata": {},
     "output_type": "execute_result"
    }
   ],
   "source": [
    "processed_data.describe()"
   ]
  },
  {
   "cell_type": "code",
   "execution_count": 205,
   "metadata": {},
   "outputs": [
    {
     "name": "stdout",
     "output_type": "stream",
     "text": [
      "                                price  bedrooms  bathrooms  sqft_living  \\\n",
      "price                        1.000000  0.200336   0.317229     0.430410   \n",
      "bedrooms                     0.200336  1.000000   0.498491     0.594884   \n",
      "bathrooms                    0.317229  0.498491   1.000000     0.711253   \n",
      "sqft_living                  0.430410  0.594884   0.711253     1.000000   \n",
      "sqft_lot                     0.050451  0.068819   0.109521     0.210538   \n",
      "floors                       0.151461  0.177895   0.459006     0.344850   \n",
      "waterfront                   0.135648 -0.003483   0.071806     0.117616   \n",
      "view                         0.228504  0.111028   0.203389     0.311009   \n",
      "condition                    0.034915  0.025080  -0.118819    -0.062826   \n",
      "sqft_above                   0.367570  0.484705   0.649091     0.876443   \n",
      "sqft_basement                0.210427  0.334165   0.270301     0.447206   \n",
      "house_age                   -0.021857 -0.142461  -0.394516    -0.287775   \n",
      "years_since_last_renovation -0.002289 -0.026499  -0.147039    -0.099957   \n",
      "\n",
      "                             sqft_lot    floors  waterfront      view  \\\n",
      "price                        0.050451  0.151461    0.135648  0.228504   \n",
      "bedrooms                     0.068819  0.177895   -0.003483  0.111028   \n",
      "bathrooms                    0.109521  0.459006    0.071806  0.203389   \n",
      "sqft_living                  0.210538  0.344850    0.117616  0.311009   \n",
      "sqft_lot                     1.000000  0.003750    0.017241  0.073907   \n",
      "floors                       0.003750  1.000000    0.022024  0.031211   \n",
      "waterfront                   0.017241  0.022024    1.000000  0.360935   \n",
      "view                         0.073907  0.031211    0.360935  1.000000   \n",
      "condition                    0.000558 -0.275013    0.000352  0.063077   \n",
      "sqft_above                   0.216455  0.522814    0.078911  0.174327   \n",
      "sqft_basement                0.034842 -0.255510    0.097501  0.321602   \n",
      "house_age                   -0.050706 -0.467481    0.023563  0.064465   \n",
      "years_since_last_renovation -0.029112 -0.187006    0.008190  0.023304   \n",
      "\n",
      "                             condition  sqft_above  sqft_basement  house_age  \\\n",
      "price                         0.034915    0.367570       0.210427  -0.021857   \n",
      "bedrooms                      0.025080    0.484705       0.334165  -0.142461   \n",
      "bathrooms                    -0.118819    0.649091       0.270301  -0.394516   \n",
      "sqft_living                  -0.062826    0.876443       0.447206  -0.287775   \n",
      "sqft_lot                      0.000558    0.216455       0.034842  -0.050706   \n",
      "floors                       -0.275013    0.522814      -0.255510  -0.467481   \n",
      "waterfront                    0.000352    0.078911       0.097501   0.023563   \n",
      "view                          0.063077    0.174327       0.321602   0.064465   \n",
      "condition                     1.000000   -0.178196       0.200632   0.399698   \n",
      "sqft_above                   -0.178196    1.000000      -0.038723  -0.408535   \n",
      "sqft_basement                 0.200632   -0.038723       1.000000   0.161675   \n",
      "house_age                     0.399698   -0.408535       0.161675   1.000000   \n",
      "years_since_last_renovation   0.514397   -0.163970       0.097149   0.460791   \n",
      "\n",
      "                             years_since_last_renovation  \n",
      "price                                          -0.002289  \n",
      "bedrooms                                       -0.026499  \n",
      "bathrooms                                      -0.147039  \n",
      "sqft_living                                    -0.099957  \n",
      "sqft_lot                                       -0.029112  \n",
      "floors                                         -0.187006  \n",
      "waterfront                                      0.008190  \n",
      "view                                            0.023304  \n",
      "condition                                       0.514397  \n",
      "sqft_above                                     -0.163970  \n",
      "sqft_basement                                   0.097149  \n",
      "house_age                                       0.460791  \n",
      "years_since_last_renovation                     1.000000  \n"
     ]
    }
   ],
   "source": [
    "# Print out the column correlations of the processed_data dataset\n",
    "print(processed_data.corr())"
   ]
  },
  {
   "cell_type": "code",
   "execution_count": 206,
   "metadata": {},
   "outputs": [
    {
     "data": {
      "image/png": "[encoded data removed]",
      "text/plain": [
       "<Figure size 1200x1000 with 2 Axes>"
      ]
     },
     "metadata": {},
     "output_type": "display_data"
    }
   ],
   "source": [
    "plt.figure(figsize=(12,10))\n",
    "sns.heatmap(processed_data.corr(numeric_only=True),cmap='Blues',annot=True);"
   ]
  },
  {
   "cell_type": "code",
   "execution_count": 207,
   "metadata": {},
   "outputs": [],
   "source": [
    "processed_data.to_csv(r'C:\\Users\\Usuario\\personal_projects\\machineLearning_projects\\supervised_learning\\XGBoost_projects\\XGBoost_house_price_prediction\\supervised_learning_projects\\data\\processed\\processed_data.csv', index=False)"
   ]
  }
 ],
 "metadata": {
  "kernelspec": {
   "display_name": "basic_env",
   "language": "python",
   "name": "python3"
  },
  "language_info": {
   "codemirror_mode": {
    "name": "ipython",
    "version": 3
   },
   "file_extension": ".py",
   "mimetype": "text/x-python",
   "name": "python",
   "nbconvert_exporter": "python",
   "pygments_lexer": "ipython3",
   "version": "3.11.4"
  },
  "orig_nbformat": 4
 },
 "nbformat": 4,
 "nbformat_minor": 2
}
